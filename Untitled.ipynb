{
 "cells": [
  {
   "cell_type": "markdown",
   "id": "538c35f0",
   "metadata": {},
   "source": [
    "## Sample Model"
   ]
  },
  {
   "cell_type": "code",
   "execution_count": 1,
   "id": "144f09aa",
   "metadata": {},
   "outputs": [
    {
     "name": "stderr",
     "output_type": "stream",
     "text": [
      "\u001b[38;5;2m[i 0407 16:03:47.879129 84 compiler.py:851] Jittor(1.2.2.59) src: /usr/local/lib/python3.7/dist-packages/jittor\u001b[m\n",
      "\u001b[38;5;2m[i 0407 16:03:47.880118 84 compiler.py:852] g++ at /usr/bin/g++\u001b[m\n",
      "\u001b[38;5;2m[i 0407 16:03:47.880728 84 compiler.py:853] cache_path: /root/.cache/jittor/default/g++\u001b[m\n",
      "\u001b[38;5;2m[i 0407 16:03:47.889215 84 __init__.py:257] Found /usr/local/cuda/bin/nvcc(10.2.89) at /usr/local/cuda/bin/nvcc.\u001b[m\n",
      "\u001b[38;5;2m[i 0407 16:03:47.901063 84 __init__.py:257] Found addr2line(2.30) at /usr/bin/addr2line.\u001b[m\n",
      "\u001b[38;5;2m[i 0407 16:03:47.933211 84 compiler.py:893] pybind_include: -I/usr/include/python3.7m -I/usr/local/lib/python3.7/dist-packages/pybind11/include\u001b[m\n",
      "\u001b[38;5;2m[i 0407 16:03:47.950118 84 compiler.py:895] extension_suffix: .cpython-37m-x86_64-linux-gnu.so\u001b[m\n",
      "\u001b[38;5;2m[i 0407 16:03:48.085816 84 __init__.py:169] Total mem: 15.35GB, using 5 procs for compiling.\u001b[m\n",
      "\u001b[38;5;2m[i 0407 16:03:48.176121 84 jit_compiler.cc:21] Load cc_path: /usr/bin/g++\u001b[m\n",
      "\u001b[38;5;2m[i 0407 16:03:48.177590 84 init.cc:54] Found cuda archs: []\u001b[m\n",
      "\u001b[38;5;2m[i 0407 16:03:48.275833 84 __init__.py:257] Found mpicc(2.1.1) at /usr/bin/mpicc.\u001b[m\n",
      "\u001b[38;5;2m[i 0407 16:03:48.298614 84 compiler.py:658] handle pyjt_include/usr/local/lib/python3.7/dist-packages/jittor/extern/mpi/inc/mpi_warper.h\u001b[m\n",
      "\u001b[38;5;2m[i 0407 16:03:48.323236 84 compile_extern.py:289] Downloading nccl...\u001b[m\n",
      "\u001b[38;5;2m[i 0407 16:03:48.370535 84 compile_extern.py:16] found /usr/include/cublas.h\u001b[m\n",
      "\u001b[38;5;2m[i 0407 16:03:48.371593 84 compile_extern.py:16] found /usr/lib/x86_64-linux-gnu/libcublas.so\u001b[m\n",
      "\u001b[38;5;2m[i 0407 16:03:48.390590 84 compile_extern.py:16] found /usr/include/cudnn.h\u001b[m\n",
      "\u001b[38;5;2m[i 0407 16:03:48.391354 84 compile_extern.py:16] found /usr/lib/x86_64-linux-gnu/libcudnn.so\u001b[m\n",
      "\u001b[38;5;2m[i 0407 16:03:48.406240 84 compiler.py:658] handle pyjt_include/usr/local/lib/python3.7/dist-packages/jittor/extern/cuda/cudnn/inc/cudnn_warper.h\u001b[m\n",
      "\u001b[38;5;2m[i 0407 16:03:48.415991 84 compile_extern.py:16] found /usr/local/cuda/include/curand.h\u001b[m\n",
      "\u001b[38;5;2m[i 0407 16:03:48.416806 84 compile_extern.py:16] found /usr/local/cuda/lib64/libcurand.so\u001b[m\n"
     ]
    },
    {
     "name": "stdout",
     "output_type": "stream",
     "text": [
      "[2,3,4,]\n"
     ]
    }
   ],
   "source": [
    "import jittor as jt\n",
    "from jittor import nn\n",
    "\n",
    "\n",
    "class MLP(jt.Module):\n",
    "\n",
    "    def __init__(self, in_dim: int, hidden_dim: int, out_dim: int):\n",
    "        super().__init__()\n",
    "        self.model = nn.Sequential(\n",
    "            nn.Linear(in_dim, hidden_dim),\n",
    "            nn.ELU(),\n",
    "            nn.Linear(hidden_dim, out_dim)\n",
    "        )\n",
    "\n",
    "    def execute(self, x):\n",
    "        return self.model(x)\n",
    "\n",
    "\n",
    "def main():\n",
    "    x = jt.randn((2, 3, 4))\n",
    "    mlp = MLP(in_dim=4, hidden_dim=5, out_dim=4)\n",
    "    y = mlp(x)\n",
    "    print(y.shape)\n",
    "\n",
    "\n",
    "if __name__ == '__main__':\n",
    "    main()"
   ]
  },
  {
   "cell_type": "code",
   "execution_count": null,
   "id": "e8498f51",
   "metadata": {},
   "outputs": [],
   "source": []
  }
 ],
 "metadata": {
  "kernelspec": {
   "display_name": "Python 3",
   "language": "python",
   "name": "python3"
  },
  "language_info": {
   "codemirror_mode": {
    "name": "ipython",
    "version": 3
   },
   "file_extension": ".py",
   "mimetype": "text/x-python",
   "name": "python",
   "nbconvert_exporter": "python",
   "pygments_lexer": "ipython3",
   "version": "3.7.5"
  }
 },
 "nbformat": 4,
 "nbformat_minor": 5
}
